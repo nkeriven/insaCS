{
 "cells": [
  {
   "cell_type": "markdown",
   "metadata": {},
   "source": [
    "<div>\n",
    "<a href=\"http://www.music-processing.de/\"><img style=\"float:left;\" src=\"../data/FMP_Teaser_Cover.png\" width=40% alt=\"FMP\"></a>\n",
    "<a href=\"https://www.audiolabs-erlangen.de\"><img src=\"../data/Logo_AudioLabs_Long.png\" width=59% style=\"float: right;\" alt=\"AudioLabs\"></a>\n",
    "</div>"
   ]
  },
  {
   "cell_type": "markdown",
   "metadata": {},
   "source": [
    "<div>\n",
    "<a href=\"../C8/C8.html\"><img src=\"../data/C8_nav.png\" width=\"100\"  style=\"float:right;\" alt=\"C8\"></a>\n",
    "<h1>Nonnegative Matrix Factorization (NMF)</h1> \n",
    "</div>\n",
    "\n",
    "<br/>\n",
    "\n",
    "<p>\n",
    "Following Section 8.3.1 <a href=\"http://www.music-processing.de/\">[Müller, FMP, Springer 2015]</a>, we cover in this notebook a technique known as nonnegative matrix factorization (NMF). The formal definition of the NMF problem and an iterative learning procedure for computing a factorization in practice was first described by Lee and Seoung. Implementations and applications for NMF can also be found in the <a href=\"https://www.audiolabs-erlangen.de/resources/MIR/NMFtoolbox/\"><strong>NMF Toolbox</strong>.</a>    \n",
    "\n",
    "<ul>\n",
    "<li><span style=\"color:black\">\n",
    "Daniel D. Lee, H. Sebastian Seung: <a href=\"https://papers.nips.cc/paper/1861-algorithms-for-non-negative-matrix-factorization.pdf\"><strong>Algorithms for Non-negative Matrix Factorization.</strong></a> Proceedings of the Neural Information Processing Systems (NIPS), Denver, CO, USA, pp. 556&ndash;562, 2000.\n",
    "<br>\n",
    "<a type=\"button\" class=\"btn btn-default btn-xs\" target=\"_blank\" href=\"../data/bibtex/FMP_bibtex_LeeS00_AlgorithmsNmf_NIPS.txt\"> Bibtex </a>\n",
    "</span></li>\n",
    "<li><span style=\"color:black\">\n",
    "Patricio López-Serrano, Christian Dittmar, Yigitcan Özer, and Meinard Müller: <a href=\"https://www.audiolabs-erlangen.de/fau/professor/mueller/publications/2019_LopezSerranoDOM_NMF_DAFx.pdf\"><strong>NMF Toolbox: Music processing applications of nonnegative matrix factorization.</strong></a>Proceedings of the International Conference on Digital Audio Effects (DAFx), Birmingham, UK, 2019.\n",
    "<br>    \n",
    "<a type=\"button\" class=\"btn btn-default btn-xs\" target=\"_blank\" href=\"../data/bibtex/FMP_bibtex_LopezDOM19_ToolboxNMF_DAFx.txt\"> Bibtex </a>\n",
    "<a type=\"button\" class=\"btn btn-default btn-xs\" target=\"_blank\" href=\"https://www.audiolabs-erlangen.de/resources/MIR/NMFtoolbox/\">MATLAB and Python Toolbox</a>\n",
    "</span></li>\n",
    "</ul>   \n",
    "</p> "
   ]
  },
  {
   "cell_type": "markdown",
   "metadata": {},
   "source": [
    "## Basic Idea\n",
    "\n",
    "**Nonnegative matrix factorization** (NMF) is a technique where a matrix $V$ with nonnegative entries is factored into two matrices $W$ and $H$ that also have only nonnegative entries:\n",
    "\n",
    "<img src=\"../data/C8/FMP_C8_F20b.png\" width=\"400px\" align=\"middle\" alt=\"FMP_C8_F20b\">\n",
    "\n",
    "Typically, the matrices $W$ and $H$ are required to have a much lower rank than the original matrix $V$. This factorization is interpreted as follows: The columns of $V$ are regarded as data vectors. The underlying assumption is that these vectors can be represented as a weighted superposition of a relatively small number of **template** vectors. The columns of $W$ correspond to these templates. Furthermore, the rows of $H$&mdash;called **activations**&mdash;indicate where these templates occur in $V$. The nonnegativity constraints often lead to a decomposition that allows for a semantically meaningful interpretation of the coefficients. However, in most cases, the resulting factorization problem has no exact solution, thus requiring optimization procedures for finding suitable numerical approximations. In the following, to build up some intuition, we give a factorization example form the music domain. Subsequently, we formally introduce the NMF problem and discuss an iterative learning procedure. "
   ]
  },
  {
   "cell_type": "markdown",
   "metadata": {},
   "source": [
    "## Example: Spectrogam Factorization \n",
    "\n",
    "As illustration of NMF, we show how this technique can be used to factorize a spectrogram of a music recording into musically meaningful components. Let us consider the first measures of the Prélude Op. 28, No. 4 by Frédéric Chopin. The following figure shows the musical score as well as a piano-roll representation of the score synchronized to an audio recording of a performance. For illustration purposes, all information related to the note number $p=71$ is highlighted by the red rectangular frames.\n",
    "\n",
    "<img src=\"../data/C8/FMP_C8_F21a-b.png\" width=\"600px\" align=\"left\" alt=\"FMP_C8_F21a-b\">\n",
    "\n",
    "<br clear=\"all\" />\n",
    "\n",
    "<audio style=\"width: 320px;\" src=\"../data/C8/FMP_C8_F27_Chopin_Op028-04_minor.mp3\" type=\"audio/mpeg\" controls=\"controls\"></audio>\n",
    "\n",
    "As for the original data matrix $V$, we use the [magnitude STFT](../C2/C2_STFT-Basic.html), which is a sequence of spectral vectors. Using NMF, this matrix can be factorized into a product of two nonnegative matrices $W$ and $H$. In the ideal case, the first matrix $W$ represents the spectral patterns of the notes' pitches that occur in the piece of music, while the second matrix $H$ exhibits the time positions where these spectral patterns are active in the audio recording. The following figure shows such a factorization for our Chopin example.\n",
    "\n",
    "<img src=\"../data/C8/FMP_C8_F21c-e.png\" width=\"700px\" align=\"middle\" alt=\"FMP_C8_F21c-e\">\n",
    "\n",
    "In this case, each template specified by the matrix $W$ reflects how a note of a certain pitch is spectrally realized in $V$, and the activation matrix $H$ looks similar to the piano-roll representation of the score. In practice, however, it is often hard to predict which of the signal's properties are ultimately captured by the learned factors. \n",
    "To better control this factorization, we will show how additional score information can be used to [constrain NMF](../C8/C8S3_NMFAudioDecomp.html) to yield a musically meaningful decomposition. "
   ]
  },
  {
   "cell_type": "markdown",
   "metadata": {},
   "source": [
    "## Formal Definition of NMF\n",
    "\n",
    "A matrix with real-valued coefficients is called **nonnegative** if all the coefficients are either zero or positive. Let $V \\in \\mathbb{R}_{\\ge 0}^{K \\times N}$ be such a nonnegative matrix having $K\\in\\mathbb{N}$ rows and $N\\in\\mathbb{N}$ columns. The dimensions $K$ and $N$ of the matrix $V$ are usually thought to be large. Given a number $R\\in\\mathbb{N}$ smaller than both $K$ and $N$, the goal of NMF is to find two nonnegative matrices $W \\in \\mathbb{R}_{\\ge 0}^{K \\times R}$ and $H \\in \\mathbb{R}_{\\ge 0}^{R \\times N}$ such that \n",
    "\n",
    "\\begin{equation}\n",
    "    V \\approx W \\cdot H.\n",
    "\\end{equation}\n",
    "\n",
    "As said above, the columns of $V$ are regarded as $K$-dimensional data vectors, where $N$ is the number of data vectors. This matrix is then approximately factorized into a $(K \\times R)$ matrix $W$ and an $(R \\times N)$ matrix $H$. The parameter $R$, which is referred to as the **rank** of the factorization, is usually chosen to be much smaller than $K$ and $N$. Therefore, the number of coefficients in $W$ and $H$ is typically much smaller than the total number in $V$ (i.e., $KR+RN \\ll KN$), and the product $WH$ can be thought of as a compressed version of the original matrix $V$. As already mentioned before, the column vectors of $W$ are also referred to as **template vectors**, whereas the weights specified by $H$ are called **activations**. As opposed to arbitrary linear combinations as known from linear algebra, the linear combinations occurring in the NMF context only involve nonnegative weights of nonnegative template vectors. As a result, there are no effects such as destructive interferences, where a (positive) component can be canceled out by adding a kind of inverse (negative) component. Instead, the data vectors need to be explained in a purely constructive fashion only involving positive components.\n",
    "\n",
    "To find an approximate factorization $V \\approx W \\cdot H$, we need to specify a distance function that quantifies the \n",
    "quality of the approximation. There are many ways for defining such a distance function, leading to different NMF variants. In the following, we only consider one of these variants, which is based on the **Euclidean distance**. Let $A,B\\in\\mathbb{R}^{K \\times N}$ be two matrices with coefficients $A_{kn}$ and $B_{kn}$\n",
    "for $k\\in[1:K]$ and $n\\in[1:N]$. Then, the square of the Euclidean distance between $A$ and $B$ is defined by\n",
    "\n",
    "\\begin{equation}\n",
    "    \\|A-B\\|^2:= \\sum_{k=1}^{K}\\sum_{n=1}^{N}(A_{kn}-B_{kn})^2.\n",
    "\\end{equation}\n",
    "\n",
    "Based on this distance measure, we can formalize our NMF problem as follows: Given a nonnegative matrix $V\\in\\mathbb{R}_{\\ge 0}^{K \\times N}$ and a rank parameter $R$, minimize\n",
    "\n",
    "\\begin{equation}\n",
    "    \\|V-WH\\|^2\n",
    "\\end{equation}\n",
    "\n",
    "with respect to $W \\in \\mathbb{R}_{\\ge 0}^{K \\times R}$  and $H \\in \\mathbb{R}_{\\ge 0}^{R \\times N}$. In other words, regarding $\\|V-WH\\|^2$ as a joint function of $W$ and $H$, the objective is to find a minimum under the nonnegativity constraint for $W$ and $H$. For general matrices, this is a hard computational problem due to several reasons. First, it is in general difficult to enforce hard constraints such as nonnegativity on the solution of an optimization problem. Second, the joint optimization over both matrices $W$ and $H$ leads to computational challenges. In fact, when regarding $\\|V-WH\\|^2$ as a function of $W$ only or $H$ only, one can show that the resulting functions satisfy a strong property referred to as **convexity**. This property, which implies that any local minimum must be a global minimum, makes it possible to apply powerful tools from the field of convex analysis.  However, $\\|V-WH\\|^2$ is **not convex** in both matrices together. Therefore, it is unrealistic to expect an algorithm that can solve this problem in the sense of finding a global minimum. However, there are many techniques from numerical optimization that can be applied to find local minima."
   ]
  },
  {
   "cell_type": "markdown",
   "metadata": {},
   "source": [
    "## Multiplicative Update Rules\n",
    "\n",
    "<a href=\"https://papers.nips.cc/paper/1861-algorithms-for-non-negative-matrix-factorization.pdf\">Lee and Seung</a> introduced in their seminal paper a powerful algorithm based on multiplicative update rules to iteratively learn a nonnegative matrix factorization. In the following, we only summarize their algorithm and refer to their paper or Section 8.3.1 of <a href=\"http://www.music-processing.de/\">[Müller, FMP, Springer 2015]</a> for a proof. The idea is based on the standard gradient descent approach, which is applied to our problem of minimizing $\\|V-WH\\|^2$ as a function of $W$ and $H$. Since the joint optimization is a very hard problem, one idea is to first fix the factor $W$ and to optimize with regard to $H$, and then to fix the learned factor $H$ and to optimize with regard to $W$. This process is then iterated, where the role of $W$ and $H$ is interchanged after each step. In standard gradient descent the update rules are additive, where a parameter needs to be chosen to control the **step size** towards the direction of the negative gradient. The main trick in the NMF optimization algorithm is that this step size parameter can be set in a specific way so that the **additive** update rules become **multiplicative** update rules. The following table shows the iterative algorithm for learning an NMF decomposition., where the multiplicative update rules are given in matrix notation. The operator $\\odot$ denotes pointwise multiplication and the operator $\\oslash$ pointwise division. \n",
    "\n",
    "<img src=\"../data/C8/FMP_C8_T01.png\" width=\"600px\" align=\"middle\" alt=\"FMP_C8_T01\">\n",
    "\n",
    "The multiplicative update rules and their properties have a number of remarkable implications.\n",
    "\n",
    "* The first implication is that the matrix sequences $W^{(0)},W^{(1)},W^{(2)},\\ldots$ and $H^{(0)},H^{(1)},H^{(2)},\\ldots$ converge. Denoting the limit matrices by $W^{(\\infty)}$ and $H^{(\\infty)}$, the stationarity property implies that these matrices form a local minimum of the distance function $\\|V-WH\\|^2$.\n",
    "* Second, the multiplicative update rules are extremely easy to implement. \n",
    "* Third, in practice, the convergence turns out to be relatively fast in comparison with many other methods.\n",
    "* Fourth, one major benefit of using multiplicative update rules is that the nonnegativity constraints are enforced automatically.\n",
    "\n",
    "Indeed, starting with nonnegative matrices $V$, $W^{(0)}$, and $H^{(0)}$, all entries in the equations (1) and (2) of the above table are also nonnegative. Since all operations are multiplicative (either multiplication or division), also the matrices $W^{(\\ell)}$ and $H^{(\\ell)}$ remain nonnegative throughout the iteration.\n",
    "\n",
    "In practice, the iteration is performed until a specified stop criterion is fulfilled. For example, one may perform a certain number of iterations $\\ell=0,1,2,\\ldots, L$ for some user-specified parameter $L\\in\\mathbb{N}$. As another stop criterion, one may look at the distances between two subsequently computed template matrices and activation matrices. Specifying a threshold $\\varepsilon>0$, the iteration may be stopped when $\\|H^{(\\ell+1)}-H^{(\\ell)}\\|^2\\leq \\varepsilon$ and $\\|W^{(\\ell+1)}-W^{(\\ell)}\\|^2\\leq \\varepsilon$. Note that this stop criterion does not say anything about the quality of the approximation $V\\approx WH$ achieved by the procedure. Even in the limit case and even when converging to the global minimum (and not to a local one), the distance $\\|V-WH\\|^2$ may still be large. In particular, this may happen if the rank parameter $R$ is chosen too small."
   ]
  },
  {
   "cell_type": "markdown",
   "metadata": {},
   "source": [
    "## Implementation\n",
    "\n",
    "In the following code cell, we provide a basic implementation that closely follows the NMF procedure described above. Here are some important notes:\n",
    "\n",
    "* All operation are performed using matrix-based operations.\n",
    "* To avoid devision by zero, a small value (machine epsilon) is added to the denominators in the multiplicative update rules.\n",
    "* In the factorization $V\\approx WH$, there is a degree of freedom with regard to columns and rows of $W$ and $H$, respectively. For example, one may divide a column of $W$ by a factor $\\alpha\\in\\mathbb{R}$ and multiply the correspond row of $H$ by the same factor without changing the product $WH$. In the following code, setting the parameter `norm=True`, we use this fact to enforce that all columns of the final template matrix $W$ are normalized with regard to the [maximum norm](../C3/C3S1_FeatureNormalization.html).\n",
    "* If not specified, the matrices $W$ and $H$ are initialized randomly. The power of NMF lies in the possibility of guiding the decomposition process by [initializing the matrices in a musically informed way](../C8/C8S3_NMFAudioDecomp.html)."
   ]
  },
  {
   "cell_type": "code",
   "execution_count": null,
   "metadata": {
    "execution": {
     "iopub.execute_input": "2023-05-26T06:06:29.348117Z",
     "iopub.status.busy": "2023-05-26T06:06:29.347823Z",
     "iopub.status.idle": "2023-05-26T06:06:31.682945Z",
     "shell.execute_reply": "2023-05-26T06:06:31.682450Z"
    }
   },
   "outputs": [],
   "source": [
    "import os, sys\n",
    "import numpy as np\n",
    "import scipy\n",
    "#import scipy.spatial\n",
    "import matplotlib.pyplot as plt\n",
    "import IPython.display as ipd\n",
    "import librosa, librosa.display\n",
    "#from matplotlib import gridspec\n",
    "from numba import jit\n",
    "\n",
    "sys.path.append('..')\n",
    "import libfmp.b\n",
    "import libfmp.c2\n",
    "import libfmp.c6\n",
    "%matplotlib inline\n",
    "\n",
    "@jit(nopython=True)\n",
    "def nmf(V, R, thresh=0.001, L=1000, W=None, H=None, norm=False, report=False):\n",
    "    \"\"\"NMF algorithm with Euclidean distance\n",
    "\n",
    "    Notebook: C8/C8S3_NMFbasic.ipynb\n",
    "\n",
    "    Args:\n",
    "        V (np.ndarray): Nonnegative matrix of size K x N\n",
    "        R (int): Rank parameter\n",
    "        thresh (float): Threshold used as stop criterion (Default value = 0.001)\n",
    "        L (int): Maximal number of iteration (Default value = 1000)\n",
    "        W (np.ndarray): Nonnegative matrix of size K x R used for initialization (Default value = None)\n",
    "        H (np.ndarray): Nonnegative matrix of size R x N used for initialization (Default value = None)\n",
    "        norm (bool): Applies max-normalization of columns of final W (Default value = False)\n",
    "        report (bool): Reports errors during runtime (Default value = False)\n",
    "\n",
    "    Returns:\n",
    "        W (np.ndarray): Nonnegative matrix of size K x R\n",
    "        H (np.ndarray): Nonnegative matrix of size R x N\n",
    "        V_approx (np.ndarray): Nonnegative matrix W*H of size K x N\n",
    "        V_approx_err (float): Error between V and V_approx\n",
    "        H_W_error (np.ndarray): History of errors of subsequent H and W matrices\n",
    "    \"\"\"\n",
    "    K = V.shape[0]\n",
    "    N = V.shape[1]\n",
    "    if W is None:\n",
    "        W = np.random.rand(K, R)\n",
    "    if H is None:\n",
    "        H = np.random.rand(R, N)\n",
    "    V = V.astype(np.float64)\n",
    "    W = W.astype(np.float64)\n",
    "    H = H.astype(np.float64)\n",
    "    H_W_error = np.zeros((2, L))\n",
    "    ell = 1\n",
    "    below_thresh = False\n",
    "    eps_machine = np.finfo(np.float32).eps\n",
    "    while not below_thresh and ell <= L:\n",
    "        H_ell = H\n",
    "        W_ell = W\n",
    "        H = H * (W.transpose().dot(V) / (W.transpose().dot(W).dot(H) + eps_machine))\n",
    "        W = W * (V.dot(H.transpose()) / (W.dot(H).dot(H.transpose()) + eps_machine))\n",
    "\n",
    "        # H+1 = H *p ((W^T * V) / p (W^T * W * H))\n",
    "        # H = np.multiply(H, np.divide(np.matmul(np.transpose(W), V),\n",
    "        #                              np.matmul(np.matmul(np.transpose(W), W), H)))\n",
    "        # W+1 = W *p ((V * H^T) / p (W * H * H^T))\n",
    "        # W = np.multiply(W, np.divide(np.matmul(V, np.transpose(H)),\n",
    "        #                              np.matmul(np.matmul(W, H), np.transpose(H))))\n",
    "\n",
    "        H_error = np.linalg.norm(H-H_ell, ord=2)\n",
    "        W_error = np.linalg.norm(W - W_ell, ord=2)\n",
    "        H_W_error[:, ell-1] = [H_error, W_error]\n",
    "        if report:\n",
    "            print('Iteration: ', ell, ', H_error: ', H_error, ', W_error: ', W_error)\n",
    "        if H_error < thresh and W_error < thresh:\n",
    "            below_thresh = True\n",
    "            H_W_error = H_W_error[:, 0:ell]\n",
    "        ell += 1\n",
    "    if norm:\n",
    "        for r in range(R):\n",
    "            v_max = np.max(W[:, r])\n",
    "            if v_max > 0:\n",
    "                W[:, r] = W[:, r] / v_max\n",
    "                H[r, :] = H[r, :] * v_max\n",
    "    V_approx = W.dot(H)\n",
    "    V_approx_err = np.linalg.norm(V-V_approx, ord=2)\n",
    "    return W, H, V_approx, V_approx_err, H_W_error"
   ]
  },
  {
   "cell_type": "markdown",
   "metadata": {},
   "source": [
    "## Toy Example\n",
    "\n",
    "We illustrate the functioning of the NMF procedure by means of a small toy example $V \\in \\mathbb{R}_{\\ge 0}^{K \\times N}$ with $K=4$ and $N=8$. The rank parameter is set to $R=2$."
   ]
  },
  {
   "cell_type": "code",
   "execution_count": null,
   "metadata": {
    "execution": {
     "iopub.execute_input": "2023-05-26T06:06:31.685702Z",
     "iopub.status.busy": "2023-05-26T06:06:31.685466Z",
     "iopub.status.idle": "2023-05-26T06:06:36.678734Z",
     "shell.execute_reply": "2023-05-26T06:06:36.677978Z"
    }
   },
   "outputs": [],
   "source": [
    " def plot_nmf(V, W, H, V_approx, error, figsize=(10,2), aspect='auto', wr=[1, 0.5, 1, 1]): \n",
    "    fig, ax = plt.subplots(1, 4, gridspec_kw={'width_ratios': wr},\n",
    "                           figsize=figsize)    \n",
    "    cmap = 'gray_r'\n",
    "    im = ax[0].imshow(V, aspect=aspect, origin='lower', cmap=cmap, clim=[0, np.max(V)])\n",
    "    ax[0].set_title(r'$V$')\n",
    "    plt.sca(ax[0])\n",
    "    plt.colorbar(im)   \n",
    "    im = ax[1].imshow(W, aspect=aspect, origin='lower', cmap=cmap, clim=[0, np.max(W)])\n",
    "    ax[1].set_title(r'$W$')\n",
    "    plt.sca(ax[1])\n",
    "    plt.colorbar(im)\n",
    "    im = ax[2].imshow(H, aspect=aspect, origin='lower', cmap=cmap, clim=[0, np.max(H)])\n",
    "    ax[2].set_title(r'$H$')\n",
    "    plt.sca(ax[2])    \n",
    "    plt.colorbar(im)\n",
    "    im = ax[3].imshow(V_approx, aspect=aspect, origin='lower', cmap=cmap, clim=[0, np.max(V_approx)])\n",
    "    ax[3].set_title(r'$WH$ (error = %0.2f)'%error)\n",
    "    plt.sca(ax[3])    \n",
    "    plt.colorbar(im)\n",
    "    plt.tight_layout() \n",
    "    plt.show() \n",
    "    \n",
    "V = np.array([ \n",
    "    [0, 1, 2, 3, 4, 5, 6, 7], \n",
    "    [0, 1, 2, 3, 3, 2, 1, 0],\n",
    "    [0, 0, 0, 0, 0, 0, 0, 0], \n",
    "    [7, 0, 0, 0, 0, 0, 0, 0], \n",
    "    [7, 6, 5, 4, 3, 2, 1, 0]    \n",
    "             ],dtype=float)\n",
    "\n",
    "K = V.shape[0]\n",
    "N = V.shape[1]\n",
    "R = 2\n",
    "thresh = 0.001\n",
    "L = 100\n",
    "\n",
    "W_init =  np.random.rand(K,R) \n",
    "W_init = W_init/np.max(W_init)\n",
    "H_init = np.random.rand(R,N)    \n",
    "\n",
    "print('Matrix V and randomly initialized matrices W and H')\n",
    "V_approx = W_init.dot(H_init)\n",
    "error = np.linalg.norm(V-V_approx, ord=2)\n",
    "plot_nmf(V, W_init, H_init, V_approx, error, figsize=(12,2), \n",
    "         aspect='equal', wr=[1, 0.3, 1, 1])\n",
    "\n",
    "print('Matrix V and matrices W and H after training')\n",
    "W, H, V_approx, V_approx_err, H_W_error = nmf(V, R, thresh=thresh, \n",
    "                                   L=L, W=W_init, H=H_init, norm=1, report=0)\n",
    "plot_nmf(V, W, H, V_approx, V_approx_err, figsize=(12,2), \n",
    "         aspect='equal', wr=[1, 0.3, 1, 1])\n",
    "\n",
    "plt.figure(figsize=(5,2))\n",
    "num_iter = H_W_error.shape[1]\n",
    "plt.plot(np.arange(num_iter)+1, H_W_error[0,:], 'r', label='W error')\n",
    "plt.plot(np.arange(num_iter)+1, H_W_error[1,:], 'b', label='H error')\n",
    "plt.yscale('log')\n",
    "plt.xlabel('Iteration index')\n",
    "plt.ylabel('Error (log axis)')\n",
    "plt.title('Required number of iterations: %d'%num_iter)\n",
    "plt.xlim([1, num_iter])\n",
    "plt.legend()\n",
    "plt.tight_layout()"
   ]
  },
  {
   "cell_type": "markdown",
   "metadata": {},
   "source": [
    "## Dependency on Rank Parameter\n",
    "\n",
    "In the last example, the two templates (columns of $W$) learned by NMF mainly capture characteristics of the dominating (in terms of coefficient values) first and last column of $V$, respectively. The example shows that the error between $V$ and the learned product $WH$ may still be large. This may hold even in the case that the NMF algorithm converges to a global optimum. In the following example, we show different decomposition using different parameters $R$. Obviously, using $R=1$ is the most restrictive case, where only a single template vector is used to \"explain\" the entire matrix $V$. Increasing $R$, one obtains better approximations of $V\\approx WH$. However, the matrices $W$ and $H$ are less structured and become harder to interpret."
   ]
  },
  {
   "cell_type": "code",
   "execution_count": null,
   "metadata": {
    "execution": {
     "iopub.execute_input": "2023-05-26T06:06:36.681572Z",
     "iopub.status.busy": "2023-05-26T06:06:36.681379Z",
     "iopub.status.idle": "2023-05-26T06:06:38.880485Z",
     "shell.execute_reply": "2023-05-26T06:06:38.879951Z"
    }
   },
   "outputs": [],
   "source": [
    "thresh = 0.00001\n",
    "L = 100\n",
    "R_set = np.array([1, 2, 3, 4])\n",
    "for R in R_set: \n",
    "    print('R = %d'%R)\n",
    "    W_init =  np.random.rand(K,R) \n",
    "    W_init = W_init/np.max(W_init)\n",
    "    H_init = np.random.rand(R,N)    \n",
    "    W, H, V_approx, V_approx_err, H_W_error = nmf(V, R, thresh=thresh, \n",
    "                                       L=L, W=W_init, H=H_init, norm=1, report=0)\n",
    "    plot_nmf(V, W, H, V_approx, V_approx_err, figsize=(12,2), \n",
    "             aspect='equal', wr=[1, 0.7, 1, 1])"
   ]
  },
  {
   "cell_type": "markdown",
   "metadata": {},
   "source": [
    "## Example: C-Major Scale\n",
    "\n",
    "We close this notebook with a first music scenario, where we apply NMF to the **magnitude spectrogram** of a real audio signal. As example, we use a recording of the C-major scale played on a piano starting with $\\mathrm{C4}$ ($261.6~\\mathrm{Hz}$) and ending with $\\mathrm{C5}$ ($523.2~\\mathrm{Hz}$). \n",
    "\n",
    "<img src=\"../data/C8/FMP_C8_Audio_C-major-scale.png\" width=\"400px\" align=\"left\" alt=\"C1\">\n",
    "\n",
    "<br clear=\"all\" />\n",
    "\n",
    "<audio src=\"../data/C8/FMP_C8_Audio_C-major-scale.mp3\" type=\"audio/mpeg\" controls=\"controls\"></audio>\n",
    "\n",
    "As input matrix $V$, we only consider the lower-frequency part of the STFT (for better visibility). In a first experiment, we use $R=7$."
   ]
  },
  {
   "cell_type": "code",
   "execution_count": null,
   "metadata": {
    "execution": {
     "iopub.execute_input": "2023-05-26T06:06:38.883047Z",
     "iopub.status.busy": "2023-05-26T06:06:38.882862Z",
     "iopub.status.idle": "2023-05-26T06:06:41.449016Z",
     "shell.execute_reply": "2023-05-26T06:06:41.448388Z"
    }
   },
   "outputs": [],
   "source": [
    "Fs = 22050\n",
    "fn_wav = os.path.join('..', 'data', 'C3', 'FMP_C3_F08_C-major-scale.wav')\n",
    "\n",
    "x, Fs = librosa.load(fn_wav, sr=Fs)\n",
    "N, H = 1024, 512\n",
    "X = librosa.stft(x, n_fft=N, hop_length=H, win_length=N, window='hann', center=True, pad_mode='constant')\n",
    "V = np.log(1 + 10 * np.abs(X))\n",
    "V = V[0:60,:]\n",
    "\n",
    "K = V.shape[0]\n",
    "N = V.shape[1]\n",
    "R = 7\n",
    "thresh = 0.0001\n",
    "L = 200\n",
    "\n",
    "W_init =  np.random.rand(K,R) \n",
    "W_init = W_init/np.max(W_init)\n",
    "H_init = np.random.rand(R,N)    \n",
    "V_approx = W_init.dot(H_init)\n",
    "error = np.linalg.norm(V-V_approx, ord=2)\n",
    "print('Matrix V and randomly initialized matrices W and H')\n",
    "plot_nmf(V, W_init, H_init, V_approx, error, figsize=(12,2), wr=[1, 1, 1, 1])\n",
    "\n",
    "W, H, V_approx, V_approx_err, H_W_error = nmf(V, R, thresh=thresh, \n",
    "                                              L=L, W=W_init, H=H_init, norm=1, report=0)\n",
    "print('Matrix V and matrices W and H after training')\n",
    "plot_nmf(V, W, H, V_approx, V_approx_err, figsize=(12,2), wr=[1, 1, 1, 1])"
   ]
  },
  {
   "cell_type": "markdown",
   "metadata": {},
   "source": [
    "The figure implies that, at least visually, one obtains a good overall approximation $V\\approx WH$. The seven templates encoded by $W$ correspond to prototypical spectral vectors of the C-major scale's notes, where the first (C4) and last note (C5) share a template. This example also shows that the order of the template columns in $W$ (and the same with the activation rows of $H$) do not have any semantics. Indeed, the NMF decomposition does not favor any order. When increasing the rank parameter, one usually obtains a better overall approximation quality, as illustrated by the next figure. For examples, details such as onset-related (vertical) structures are better reconstructed compared to using a small $R$. However, as a downside, the musical interpretation of $W$ and $H$ may get lost. We will discuss in the [FMP notebook on NMF-based spectrogram factorization](../C8/C8S3_NMFSpecFac.html) how semantics may be preserved by introducing musically informed constraints."
   ]
  },
  {
   "cell_type": "code",
   "execution_count": null,
   "metadata": {
    "execution": {
     "iopub.execute_input": "2023-05-26T06:06:41.451649Z",
     "iopub.status.busy": "2023-05-26T06:06:41.451458Z",
     "iopub.status.idle": "2023-05-26T06:06:44.156268Z",
     "shell.execute_reply": "2023-05-26T06:06:44.155442Z"
    }
   },
   "outputs": [],
   "source": [
    "R = 4\n",
    "W, H, V_approx, V_approx_err, H_W_error = nmf(V, R, thresh=thresh, L=L, norm=1)\n",
    "print('Matrix V and matrices W and H after training using R = %d'%R)\n",
    "plot_nmf(V, W, H, V_approx, V_approx_err, figsize=(12,2), wr=[1, 1, 1, 1])\n",
    "\n",
    "R = 10\n",
    "W, H, V_approx, V_approx_err, H_W_error = nmf(V, R, thresh=thresh, L=L, norm=1)\n",
    "print('Matrix V and matrices W and H after training using R = %d'%R)\n",
    "plot_nmf(V, W, H, V_approx, V_approx_err, figsize=(12,2), wr=[1, 1, 1, 1])\n",
    "\n",
    "R = 15\n",
    "W, H, V_approx, V_approx_err, H_W_error = nmf(V, R, thresh=thresh, L=L, norm=1)\n",
    "print('Matrix V and matrices W and H after training using R = %d'%R)\n",
    "plot_nmf(V, W, H, V_approx, V_approx_err, figsize=(12,2), wr=[1, 1, 1, 1])"
   ]
  },
  {
   "cell_type": "markdown",
   "metadata": {},
   "source": [
    "## Further Notes\n",
    "\n",
    "* An application of NMF can be found in the [FMP notebook on NMF-based audio decomposition](../C8/C8S3_NMFAudioDecomp.html), where score information is used to guide the decomposition. \n",
    "\n",
    "* Further extensions, implementations, and applications of NMF can be found in the \n",
    "<a href=\"https://www.audiolabs-erlangen.de/resources/MIR/NMFtoolbox/\"><strong>NMF Toolbox</strong>."
   ]
  },
  {
   "cell_type": "markdown",
   "metadata": {},
   "source": [
    "<div class=\"alert\" style=\"background-color:#F5F5F5; border-color:#C8C8C8\">\n",
    "<strong>Acknowledgment:</strong> This notebook was created by <a href=\"https://www.audiolabs-erlangen.de/fau/professor/mueller\">Meinard Müller</a>.</div> "
   ]
  },
  {
   "cell_type": "markdown",
   "metadata": {},
   "source": [
    "<table style=\"border:none\">\n",
    "<tr style=\"border:none\">\n",
    "    <td style=\"min-width:50px; border:none\" bgcolor=\"white\"><a href=\"../C0/C0.html\"><img src=\"../data/C0_nav.png\" style=\"height:50px\" alt=\"C0\"></a></td>\n",
    "    <td style=\"min-width:50px; border:none\" bgcolor=\"white\"><a href=\"../C1/C1.html\"><img src=\"../data/C1_nav.png\" style=\"height:50px\" alt=\"C1\"></a></td>\n",
    "    <td style=\"min-width:50px; border:none\" bgcolor=\"white\"><a href=\"../C2/C2.html\"><img src=\"../data/C2_nav.png\" style=\"height:50px\" alt=\"C2\"></a></td>\n",
    "    <td style=\"min-width:50px; border:none\" bgcolor=\"white\"><a href=\"../C3/C3.html\"><img src=\"../data/C3_nav.png\" style=\"height:50px\" alt=\"C3\"></a></td>\n",
    "    <td style=\"min-width:50px; border:none\" bgcolor=\"white\"><a href=\"../C4/C4.html\"><img src=\"../data/C4_nav.png\" style=\"height:50px\" alt=\"C4\"></a></td>\n",
    "    <td style=\"min-width:50px; border:none\" bgcolor=\"white\"><a href=\"../C5/C5.html\"><img src=\"../data/C5_nav.png\" style=\"height:50px\" alt=\"C5\"></a></td>\n",
    "    <td style=\"min-width:50px; border:none\" bgcolor=\"white\"><a href=\"../C6/C6.html\"><img src=\"../data/C6_nav.png\" style=\"height:50px\" alt=\"C6\"></a></td>\n",
    "    <td style=\"min-width:50px; border:none\" bgcolor=\"white\"><a href=\"../C7/C7.html\"><img src=\"../data/C7_nav.png\" style=\"height:50px\" alt=\"C7\"></a></td>\n",
    "    <td style=\"min-width:50px; border:none\" bgcolor=\"white\"><a href=\"../C8/C8.html\"><img src=\"../data/C8_nav.png\" style=\"height:50px\" alt=\"C8\"></a></td>\n",
    "</tr>\n",
    "</table>"
   ]
  }
 ],
 "metadata": {
  "anaconda-cloud": {},
  "kernelspec": {
   "display_name": "Python 3 (ipykernel)",
   "language": "python",
   "name": "python3"
  },
  "language_info": {
   "codemirror_mode": {
    "name": "ipython",
    "version": 3
   },
   "file_extension": ".py",
   "mimetype": "text/x-python",
   "name": "python",
   "nbconvert_exporter": "python",
   "pygments_lexer": "ipython3",
   "version": "3.9.13"
  }
 },
 "nbformat": 4,
 "nbformat_minor": 1
}
